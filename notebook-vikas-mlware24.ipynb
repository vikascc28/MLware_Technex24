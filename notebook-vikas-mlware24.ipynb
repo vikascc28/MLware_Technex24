{
 "cells": [
  {
   "cell_type": "code",
   "execution_count": null,
   "id": "e935a8e2",
   "metadata": {
    "execution": {
     "iopub.execute_input": "2024-03-16T16:16:05.587404Z",
     "iopub.status.busy": "2024-03-16T16:16:05.587015Z",
     "iopub.status.idle": "2024-03-16T16:16:19.291278Z",
     "shell.execute_reply": "2024-03-16T16:16:19.290173Z"
    },
    "papermill": {
     "duration": 13.717434,
     "end_time": "2024-03-16T16:16:19.293925",
     "exception": false,
     "start_time": "2024-03-16T16:16:05.576491",
     "status": "completed"
    },
    "tags": []
   },
   "outputs": [],
   "source": [
    "import os\n",
    "import numpy as np\n",
    "import pandas as pd\n",
    "from PIL import Image\n",
    "from tensorflow.keras.models import Sequential\n",
    "from tensorflow.keras.layers import Conv2D, MaxPooling2D, Flatten, Dense, Dropout, LSTM, TimeDistributed, Reshape\n",
    "from tensorflow.keras.preprocessing.image import img_to_array\n",
    "from tensorflow.keras.preprocessing.text import Tokenizer\n",
    "from sklearn.model_selection import train_test_split\n",
    "import matplotlib.pyplot as plt\n",
    "import joblib\n"
   ]
  },
  {
   "cell_type": "code",
   "execution_count": null,
   "id": "c71e5ee1",
   "metadata": {
    "execution": {
     "iopub.execute_input": "2024-03-16T16:16:19.313517Z",
     "iopub.status.busy": "2024-03-16T16:16:19.312882Z",
     "iopub.status.idle": "2024-03-16T16:16:19.364251Z",
     "shell.execute_reply": "2024-03-16T16:16:19.363404Z"
    },
    "papermill": {
     "duration": 0.063587,
     "end_time": "2024-03-16T16:16:19.366816",
     "exception": false,
     "start_time": "2024-03-16T16:16:19.303229",
     "status": "completed"
    },
    "tags": []
   },
   "outputs": [],
   "source": [
    "train_labels=pd.read_csv(\"/kaggle/input/mlware24/train-labels_mlware.csv\")"
   ]
  },
  {
   "cell_type": "code",
   "execution_count": null,
   "id": "1ee6171f",
   "metadata": {
    "execution": {
     "iopub.execute_input": "2024-03-16T16:16:19.386304Z",
     "iopub.status.busy": "2024-03-16T16:16:19.385970Z",
     "iopub.status.idle": "2024-03-16T16:16:19.394207Z",
     "shell.execute_reply": "2024-03-16T16:16:19.393312Z"
    },
    "papermill": {
     "duration": 0.019902,
     "end_time": "2024-03-16T16:16:19.396235",
     "exception": false,
     "start_time": "2024-03-16T16:16:19.376333",
     "status": "completed"
    },
    "tags": []
   },
   "outputs": [],
   "source": [
    "train_labels.shape"
   ]
  },
  {
   "cell_type": "code",
   "execution_count": null,
   "id": "486c3ccc",
   "metadata": {
    "execution": {
     "iopub.execute_input": "2024-03-16T16:16:19.414481Z",
     "iopub.status.busy": "2024-03-16T16:16:19.414161Z",
     "iopub.status.idle": "2024-03-16T16:16:19.444744Z",
     "shell.execute_reply": "2024-03-16T16:16:19.443380Z"
    },
    "papermill": {
     "duration": 0.042569,
     "end_time": "2024-03-16T16:16:19.447492",
     "exception": false,
     "start_time": "2024-03-16T16:16:19.404923",
     "status": "completed"
    },
    "tags": []
   },
   "outputs": [],
   "source": [
    "train_labels.info()"
   ]
  },
  {
   "cell_type": "code",
   "execution_count": null,
   "id": "1fec1d15",
   "metadata": {
    "execution": {
     "iopub.execute_input": "2024-03-16T16:16:19.469639Z",
     "iopub.status.busy": "2024-03-16T16:16:19.469306Z",
     "iopub.status.idle": "2024-03-16T16:16:19.481647Z",
     "shell.execute_reply": "2024-03-16T16:16:19.480758Z"
    },
    "papermill": {
     "duration": 0.024141,
     "end_time": "2024-03-16T16:16:19.483636",
     "exception": false,
     "start_time": "2024-03-16T16:16:19.459495",
     "status": "completed"
    },
    "tags": []
   },
   "outputs": [],
   "source": [
    "train_labels.head()"
   ]
  },
  {
   "cell_type": "code",
   "execution_count": null,
   "id": "3de819de",
   "metadata": {
    "execution": {
     "iopub.execute_input": "2024-03-16T16:16:19.502991Z",
     "iopub.status.busy": "2024-03-16T16:16:19.502718Z",
     "iopub.status.idle": "2024-03-16T16:16:19.516310Z",
     "shell.execute_reply": "2024-03-16T16:16:19.515386Z"
    },
    "papermill": {
     "duration": 0.025832,
     "end_time": "2024-03-16T16:16:19.518310",
     "exception": false,
     "start_time": "2024-03-16T16:16:19.492478",
     "status": "completed"
    },
    "tags": []
   },
   "outputs": [],
   "source": [
    "train_labels.drop(\"Unnamed: 0\",axis=1)"
   ]
  },
  {
   "cell_type": "code",
   "execution_count": null,
   "id": "ca34ceec",
   "metadata": {
    "execution": {
     "iopub.execute_input": "2024-03-16T16:16:19.538349Z",
     "iopub.status.busy": "2024-03-16T16:16:19.538050Z",
     "iopub.status.idle": "2024-03-16T16:16:19.541984Z",
     "shell.execute_reply": "2024-03-16T16:16:19.541169Z"
    },
    "papermill": {
     "duration": 0.015423,
     "end_time": "2024-03-16T16:16:19.543852",
     "exception": false,
     "start_time": "2024-03-16T16:16:19.528429",
     "status": "completed"
    },
    "tags": []
   },
   "outputs": [],
   "source": [
    "def load_image(img_path):\n",
    "    return Image.open(img_path)"
   ]
  },
  {
   "cell_type": "code",
   "execution_count": null,
   "id": "29757abe",
   "metadata": {
    "execution": {
     "iopub.execute_input": "2024-03-16T16:16:19.563072Z",
     "iopub.status.busy": "2024-03-16T16:16:19.562772Z",
     "iopub.status.idle": "2024-03-16T16:18:40.717998Z",
     "shell.execute_reply": "2024-03-16T16:18:40.716966Z"
    },
    "papermill": {
     "duration": 141.176501,
     "end_time": "2024-03-16T16:18:40.729309",
     "exception": false,
     "start_time": "2024-03-16T16:16:19.552808",
     "status": "completed"
    },
    "tags": []
   },
   "outputs": [],
   "source": [
    "data = {}\n",
    "for index, row in train_labels.iterrows():\n",
    "    # Get the image ID and label\n",
    "    image_id = row['image']\n",
    "    label = row['text']\n",
    "\n",
    "    # Load the image\n",
    "    images = load_image(f'/kaggle/input/mlware24/train_images_mlware/train_images/{image_id}')\n",
    "\n",
    "    # Store the image and label in the dictionary\n",
    "    data[image_id] = {'image': images, 'label': label}\n",
    "\n",
    "# Print the first 5 items in the dictionary to verify the data\n",
    "for key in list(data.keys())[:5]:\n",
    "    print(key, data[key]['label'])"
   ]
  },
  {
   "cell_type": "code",
   "execution_count": null,
   "id": "538eecf4",
   "metadata": {
    "execution": {
     "iopub.execute_input": "2024-03-16T16:18:40.750443Z",
     "iopub.status.busy": "2024-03-16T16:18:40.749677Z",
     "iopub.status.idle": "2024-03-16T16:18:42.469540Z",
     "shell.execute_reply": "2024-03-16T16:18:42.468545Z"
    },
    "papermill": {
     "duration": 1.733089,
     "end_time": "2024-03-16T16:18:42.471962",
     "exception": false,
     "start_time": "2024-03-16T16:18:40.738873",
     "status": "completed"
    },
    "tags": []
   },
   "outputs": [],
   "source": [
    "\n",
    "\n",
    "# Specify the directory where the images are\n",
    "image_dir = '/kaggle/input/mlware24/train_images_mlware/train_images/'\n",
    "\n",
    "# Get the list of image file names\n",
    "image_files = os.listdir(image_dir)\n",
    "\n",
    "# Sort the image files\n",
    "image_files.sort()\n",
    "\n",
    "# Display the first 5 images\n",
    "for i in range(5):\n",
    "    # Open the image file\n",
    "    image = Image.open(os.path.join(image_dir, image_files[i]))\n",
    "    \n",
    "    # Display the image\n",
    "    plt.imshow(image)\n",
    "    plt.title(image_files[i])\n",
    "    plt.show()\n"
   ]
  },
  {
   "cell_type": "code",
   "execution_count": null,
   "id": "7f97e089",
   "metadata": {
    "execution": {
     "iopub.execute_input": "2024-03-16T16:18:42.499529Z",
     "iopub.status.busy": "2024-03-16T16:18:42.499163Z",
     "iopub.status.idle": "2024-03-16T16:18:42.504237Z",
     "shell.execute_reply": "2024-03-16T16:18:42.503363Z"
    },
    "papermill": {
     "duration": 0.021304,
     "end_time": "2024-03-16T16:18:42.506247",
     "exception": false,
     "start_time": "2024-03-16T16:18:42.484943",
     "status": "completed"
    },
    "tags": []
   },
   "outputs": [],
   "source": [
    "import numpy as np\n",
    "from keras.preprocessing.image import img_to_array\n",
    "from keras.utils import to_categorical\n",
    "from sklearn.preprocessing import LabelBinarizer\n",
    "from sklearn.model_selection import train_test_split"
   ]
  },
  {
   "cell_type": "code",
   "execution_count": null,
   "id": "0e952d61",
   "metadata": {
    "execution": {
     "iopub.execute_input": "2024-03-16T16:18:42.533312Z",
     "iopub.status.busy": "2024-03-16T16:18:42.532996Z",
     "iopub.status.idle": "2024-03-16T16:19:06.017747Z",
     "shell.execute_reply": "2024-03-16T16:19:06.016476Z"
    },
    "papermill": {
     "duration": 23.50128,
     "end_time": "2024-03-16T16:19:06.020523",
     "exception": false,
     "start_time": "2024-03-16T16:18:42.519243",
     "status": "completed"
    },
    "tags": []
   },
   "outputs": [],
   "source": [
    "X = np.array([img_to_array(data[key]['image'].convert('L').resize((50, 50))) for key in data.keys()])\n",
    "X = X.astype('float32') / 255\n",
    "\n",
    "# Encode labels using one-hot encoding\n",
    "lb = LabelBinarizer().fit(list(data[key]['label'] for key in data.keys()))\n",
    "y = lb.transform(list(data[key]['label'] for key in data.keys()))\n",
    "\n",
    "# Split the data into training and testing sets\n",
    "X_train, X_test, y_train, y_test = train_test_split(X, y, test_size=0.2, random_state=42)"
   ]
  },
  {
   "cell_type": "code",
   "execution_count": null,
   "id": "9003248f",
   "metadata": {
    "execution": {
     "iopub.execute_input": "2024-03-16T16:19:06.052452Z",
     "iopub.status.busy": "2024-03-16T16:19:06.052045Z",
     "iopub.status.idle": "2024-03-16T16:19:07.033724Z",
     "shell.execute_reply": "2024-03-16T16:19:07.032825Z"
    },
    "papermill": {
     "duration": 0.999663,
     "end_time": "2024-03-16T16:19:07.036107",
     "exception": false,
     "start_time": "2024-03-16T16:19:06.036444",
     "status": "completed"
    },
    "tags": []
   },
   "outputs": [],
   "source": [
    "from keras.models import Sequential\n",
    "from keras.layers import Conv2D, MaxPooling2D, Flatten, Dense\n",
    "\n",
    "# Define the model\n",
    "model = Sequential()\n",
    "model.add(Conv2D(32, (3, 3), input_shape=(50, 50, 1), activation='relu'))\n",
    "model.add(MaxPooling2D(pool_size=(2, 2)))\n",
    "model.add(Conv2D(64, (3, 3), activation='relu'))\n",
    "model.add(MaxPooling2D(pool_size=(2, 2)))\n",
    "model.add(Flatten())\n",
    "model.add(Dense(128, activation='relu'))\n",
    "model.add(Dense(len(lb.classes_), activation='softmax'))\n",
    "\n",
    "# Compile the model\n",
    "model.compile(loss='categorical_crossentropy', optimizer='adam', metrics=['accuracy'])\n"
   ]
  },
  {
   "cell_type": "code",
   "execution_count": null,
   "id": "4dd5e76a",
   "metadata": {
    "execution": {
     "iopub.execute_input": "2024-03-16T16:19:07.066143Z",
     "iopub.status.busy": "2024-03-16T16:19:07.065290Z",
     "iopub.status.idle": "2024-03-16T16:20:10.170398Z",
     "shell.execute_reply": "2024-03-16T16:20:10.169508Z"
    },
    "papermill": {
     "duration": 63.12213,
     "end_time": "2024-03-16T16:20:10.172543",
     "exception": false,
     "start_time": "2024-03-16T16:19:07.050413",
     "status": "completed"
    },
    "tags": []
   },
   "outputs": [],
   "source": [
    "# Train the model\n",
    "model.fit(X_train, y_train, validation_data=(X_test, y_test), epochs=10, batch_size=32)"
   ]
  },
  {
   "cell_type": "code",
   "execution_count": null,
   "id": "0970e59f",
   "metadata": {
    "execution": {
     "iopub.execute_input": "2024-03-16T16:20:10.326248Z",
     "iopub.status.busy": "2024-03-16T16:20:10.325415Z",
     "iopub.status.idle": "2024-03-16T16:20:11.651498Z",
     "shell.execute_reply": "2024-03-16T16:20:11.650394Z"
    },
    "papermill": {
     "duration": 1.404986,
     "end_time": "2024-03-16T16:20:11.653479",
     "exception": false,
     "start_time": "2024-03-16T16:20:10.248493",
     "status": "completed"
    },
    "tags": []
   },
   "outputs": [],
   "source": [
    "# Evaluate the model\n",
    "loss, accuracy = model.evaluate(X_test, y_test)\n",
    "print('Test loss:', loss)\n",
    "print('Test accuracy:', accuracy)"
   ]
  },
  {
   "cell_type": "code",
   "execution_count": null,
   "id": "54f9cc75",
   "metadata": {
    "execution": {
     "iopub.execute_input": "2024-03-16T16:20:11.807006Z",
     "iopub.status.busy": "2024-03-16T16:20:11.806631Z",
     "iopub.status.idle": "2024-03-16T16:20:12.435795Z",
     "shell.execute_reply": "2024-03-16T16:20:12.434535Z"
    },
    "papermill": {
     "duration": 0.708106,
     "end_time": "2024-03-16T16:20:12.437927",
     "exception": false,
     "start_time": "2024-03-16T16:20:11.729821",
     "status": "completed"
    },
    "tags": []
   },
   "outputs": [],
   "source": [
    "# Make a prediction for the first image in the test set\n",
    "prediction = model.predict(np.array([X_test[0]]))\n",
    "\n",
    "# The prediction is a one-hot encoded array, so we'll use the inverse_transform method to get the original label\n",
    "predicted_label = lb.inverse_transform(prediction)\n",
    "\n",
    "print('Predicted label:', predicted_label)\n",
    "print('Actual label:', lb.inverse_transform(np.array([y_test[0]])))\n"
   ]
  },
  {
   "cell_type": "markdown",
   "id": "dfd2016e",
   "metadata": {
    "papermill": {
     "duration": 0.076226,
     "end_time": "2024-03-16T16:20:12.638773",
     "exception": false,
     "start_time": "2024-03-16T16:20:12.562547",
     "status": "completed"
    },
    "tags": []
   },
   "source": [
    "**so this code did'nt worked properly will do some more changes in the images as it is a graysclae image need to do some augumentation**"
   ]
  },
  {
   "cell_type": "code",
   "execution_count": null,
   "id": "ce7ecffd",
   "metadata": {
    "execution": {
     "iopub.execute_input": "2024-03-16T16:20:12.797204Z",
     "iopub.status.busy": "2024-03-16T16:20:12.796473Z",
     "iopub.status.idle": "2024-03-16T16:20:20.317978Z",
     "shell.execute_reply": "2024-03-16T16:20:20.317076Z"
    },
    "papermill": {
     "duration": 7.603911,
     "end_time": "2024-03-16T16:20:20.320456",
     "exception": false,
     "start_time": "2024-03-16T16:20:12.716545",
     "status": "completed"
    },
    "tags": []
   },
   "outputs": [],
   "source": [
    "# Convert images to grayscale and resize them\n",
    "X = np.array([img_to_array(data[key]['image'].convert('L').resize((128, 128))) for key in data.keys()])\n",
    "X = X.astype('float32') / 255"
   ]
  },
  {
   "cell_type": "code",
   "execution_count": null,
   "id": "d372d0cb",
   "metadata": {
    "execution": {
     "iopub.execute_input": "2024-03-16T16:20:20.483118Z",
     "iopub.status.busy": "2024-03-16T16:20:20.482745Z",
     "iopub.status.idle": "2024-03-16T16:20:20.491329Z",
     "shell.execute_reply": "2024-03-16T16:20:20.490378Z"
    },
    "papermill": {
     "duration": 0.094986,
     "end_time": "2024-03-16T16:20:20.493269",
     "exception": false,
     "start_time": "2024-03-16T16:20:20.398283",
     "status": "completed"
    },
    "tags": []
   },
   "outputs": [],
   "source": [
    "X[:2]"
   ]
  },
  {
   "cell_type": "code",
   "execution_count": null,
   "id": "63e868db",
   "metadata": {
    "execution": {
     "iopub.execute_input": "2024-03-16T16:20:20.668667Z",
     "iopub.status.busy": "2024-03-16T16:20:20.668273Z",
     "iopub.status.idle": "2024-03-16T16:20:21.309698Z",
     "shell.execute_reply": "2024-03-16T16:20:21.308858Z"
    },
    "papermill": {
     "duration": 0.726227,
     "end_time": "2024-03-16T16:20:21.312441",
     "exception": false,
     "start_time": "2024-03-16T16:20:20.586214",
     "status": "completed"
    },
    "tags": []
   },
   "outputs": [],
   "source": [
    "from tensorflow.keras.preprocessing.text import Tokenizer\n",
    "\n",
    "\n",
    "# Flatten the array of labels\n",
    "labels = [data[key]['label'] for key in data.keys()]\n",
    "\n",
    "# Initialize the tokenizer\n",
    "tokenizer = Tokenizer(char_level=True,lower=False)\n",
    "\n",
    "# Fit the tokenizer on the labels\n",
    "tokenizer.fit_on_texts(labels)\n",
    "\n",
    "# Transform the labels to one-hot encoded vectors\n",
    "y = np.array([tokenizer.texts_to_matrix(label) for label in labels])\n"
   ]
  },
  {
   "cell_type": "code",
   "execution_count": null,
   "id": "c58ea9b4",
   "metadata": {
    "execution": {
     "iopub.execute_input": "2024-03-16T16:20:21.469189Z",
     "iopub.status.busy": "2024-03-16T16:20:21.468827Z",
     "iopub.status.idle": "2024-03-16T16:20:21.479859Z",
     "shell.execute_reply": "2024-03-16T16:20:21.478930Z"
    },
    "papermill": {
     "duration": 0.093156,
     "end_time": "2024-03-16T16:20:21.481933",
     "exception": false,
     "start_time": "2024-03-16T16:20:21.388777",
     "status": "completed"
    },
    "tags": []
   },
   "outputs": [],
   "source": [
    "y[:2]"
   ]
  },
  {
   "cell_type": "code",
   "execution_count": null,
   "id": "1fabcfab",
   "metadata": {
    "execution": {
     "iopub.execute_input": "2024-03-16T16:20:21.639821Z",
     "iopub.status.busy": "2024-03-16T16:20:21.639434Z",
     "iopub.status.idle": "2024-03-16T16:20:21.950360Z",
     "shell.execute_reply": "2024-03-16T16:20:21.949375Z"
    },
    "papermill": {
     "duration": 0.39266,
     "end_time": "2024-03-16T16:20:21.952873",
     "exception": false,
     "start_time": "2024-03-16T16:20:21.560213",
     "status": "completed"
    },
    "tags": []
   },
   "outputs": [],
   "source": [
    "from keras.layers import LSTM, TimeDistributed, Conv2D, MaxPooling2D, Flatten, Dense, Dropout\n",
    "from keras.models import Sequential\n",
    "\n",
    "# Define the model\n",
    "\n",
    "model = Sequential()\n",
    "model.add(Conv2D(32, (3, 3), activation='relu', input_shape=(128, 128, 1)))  # Changed from (128, 128, 3) to (128, 128, 1)\n",
    "model.add(MaxPooling2D((2, 2)))\n",
    "model.add(Conv2D(64, (3, 3), activation='relu'))\n",
    "model.add(MaxPooling2D((2, 2)))\n",
    "model.add(Conv2D(128, (3, 3), activation='relu'))\n",
    "model.add(MaxPooling2D((2, 2)))\n",
    "model.add(Flatten())\n",
    "model.add(Dropout(0.5))\n",
    "model.add(Dense(1020, activation='relu'))\n",
    "model.add(Reshape((6, -1)))  # Reshape the output into sequences\n",
    "model.add(LSTM(128, return_sequences=True))\n",
    "model.add(TimeDistributed(Dense(len(tokenizer.word_index) + 1, activation='softmax')))\n"
   ]
  },
  {
   "cell_type": "code",
   "execution_count": null,
   "id": "8b01230b",
   "metadata": {
    "execution": {
     "iopub.execute_input": "2024-03-16T16:20:22.111401Z",
     "iopub.status.busy": "2024-03-16T16:20:22.110678Z",
     "iopub.status.idle": "2024-03-16T16:20:22.531449Z",
     "shell.execute_reply": "2024-03-16T16:20:22.530387Z"
    },
    "papermill": {
     "duration": 0.503184,
     "end_time": "2024-03-16T16:20:22.534072",
     "exception": false,
     "start_time": "2024-03-16T16:20:22.030888",
     "status": "completed"
    },
    "tags": []
   },
   "outputs": [],
   "source": [
    "from sklearn.model_selection import train_test_split\n",
    "\n",
    "X_train, X_test, y_train, y_test = train_test_split(X, y, test_size=0.2, random_state=42)"
   ]
  },
  {
   "cell_type": "code",
   "execution_count": null,
   "id": "91f4cfbd",
   "metadata": {
    "execution": {
     "iopub.execute_input": "2024-03-16T16:20:22.690183Z",
     "iopub.status.busy": "2024-03-16T16:20:22.689517Z",
     "iopub.status.idle": "2024-03-16T16:37:30.549556Z",
     "shell.execute_reply": "2024-03-16T16:37:30.548250Z"
    },
    "papermill": {
     "duration": 1027.942105,
     "end_time": "2024-03-16T16:37:30.552828",
     "exception": false,
     "start_time": "2024-03-16T16:20:22.610723",
     "status": "completed"
    },
    "tags": []
   },
   "outputs": [],
   "source": [
    "# Compile the model\n",
    "model.compile(loss='categorical_crossentropy', optimizer='adam', metrics=['accuracy'])\n",
    "\n",
    "# Train the model\n",
    "model.fit(X_train, y_train, epochs=50, batch_size=32)"
   ]
  },
  {
   "cell_type": "code",
   "execution_count": null,
   "id": "3bc14f7b",
   "metadata": {
    "execution": {
     "iopub.execute_input": "2024-03-16T16:37:33.527758Z",
     "iopub.status.busy": "2024-03-16T16:37:33.527361Z",
     "iopub.status.idle": "2024-03-16T16:37:33.969024Z",
     "shell.execute_reply": "2024-03-16T16:37:33.968174Z"
    },
    "papermill": {
     "duration": 1.920831,
     "end_time": "2024-03-16T16:37:33.971504",
     "exception": false,
     "start_time": "2024-03-16T16:37:32.050673",
     "status": "completed"
    },
    "tags": []
   },
   "outputs": [],
   "source": [
    "test_dir = '/kaggle/input/mlware24/test_images_mlware/test_images/'\n",
    "\n",
    "test_files = os.listdir(test_dir)\n",
    "\n"
   ]
  },
  {
   "cell_type": "code",
   "execution_count": null,
   "id": "80649a63",
   "metadata": {
    "execution": {
     "iopub.execute_input": "2024-03-16T16:37:36.834263Z",
     "iopub.status.busy": "2024-03-16T16:37:36.833356Z",
     "iopub.status.idle": "2024-03-16T16:44:01.186359Z",
     "shell.execute_reply": "2024-03-16T16:44:01.185278Z"
    },
    "papermill": {
     "duration": 387.413513,
     "end_time": "2024-03-16T16:44:02.784248",
     "exception": false,
     "start_time": "2024-03-16T16:37:35.370735",
     "status": "completed"
    },
    "tags": []
   },
   "outputs": [],
   "source": [
    "predictions = []\n",
    "\n",
    "for file in test_files:\n",
    "    image = Image.open(os.path.join(test_dir, file)).convert('L').resize((128, 128))\n",
    "    \n",
    "    image = img_to_array(image) / 255.0\n",
    "    \n",
    "    prediction = model.predict(np.expand_dims(image, axis=0))\n",
    "    \n",
    "    predicted_label = ''.join(tokenizer.sequences_to_texts(prediction.argmax(axis=-1))).replace(' ', '')\n",
    "\n",
    "    predictions.append(predicted_label)\n"
   ]
  },
  {
   "cell_type": "code",
   "execution_count": null,
   "id": "9c4d0a27",
   "metadata": {
    "execution": {
     "iopub.execute_input": "2024-03-16T16:44:07.478797Z",
     "iopub.status.busy": "2024-03-16T16:44:07.478394Z",
     "iopub.status.idle": "2024-03-16T16:44:08.591166Z",
     "shell.execute_reply": "2024-03-16T16:44:08.590161Z"
    },
    "papermill": {
     "duration": 3.529328,
     "end_time": "2024-03-16T16:44:08.593360",
     "exception": false,
     "start_time": "2024-03-16T16:44:05.064032",
     "status": "completed"
    },
    "tags": []
   },
   "outputs": [],
   "source": [
    "# Specify the directory where the images are\n",
    "image_dir = '/kaggle/input/mlware24/test_images_mlware/test_images/'\n",
    "\n",
    "# Get the list of image file names\n",
    "image_files = os.listdir(image_dir)\n",
    "\n",
    "# Sort the image files\n",
    "image_files.sort()\n",
    "\n",
    "# Display the first 5 images\n",
    "for i in range(5):\n",
    "    # Open the image file\n",
    "    image = Image.open(os.path.join(image_dir, image_files[i]))\n",
    "    \n",
    "    # Display the image\n",
    "    plt.imshow(image)\n",
    "    plt.title(image_files[i])\n",
    "    plt.show()"
   ]
  },
  {
   "cell_type": "code",
   "execution_count": null,
   "id": "d57e79ae",
   "metadata": {
    "execution": {
     "iopub.execute_input": "2024-03-16T16:44:13.362470Z",
     "iopub.status.busy": "2024-03-16T16:44:13.361504Z",
     "iopub.status.idle": "2024-03-16T16:44:13.371451Z",
     "shell.execute_reply": "2024-03-16T16:44:13.370415Z"
    },
    "papermill": {
     "duration": 2.47038,
     "end_time": "2024-03-16T16:44:13.373980",
     "exception": false,
     "start_time": "2024-03-16T16:44:10.903600",
     "status": "completed"
    },
    "tags": []
   },
   "outputs": [],
   "source": [
    "df = pd.DataFrame({\n",
    "    'Image': test_files,\n",
    "    'text': predictions\n",
    "})\n",
    "\n",
    "# Print the DataFrame\n",
    "print(df)"
   ]
  },
  {
   "cell_type": "code",
   "execution_count": null,
   "id": "d4c574a0",
   "metadata": {
    "execution": {
     "iopub.execute_input": "2024-03-16T16:44:18.132287Z",
     "iopub.status.busy": "2024-03-16T16:44:18.131878Z",
     "iopub.status.idle": "2024-03-16T16:44:18.331362Z",
     "shell.execute_reply": "2024-03-16T16:44:18.330353Z"
    },
    "papermill": {
     "duration": 2.543437,
     "end_time": "2024-03-16T16:44:18.333854",
     "exception": false,
     "start_time": "2024-03-16T16:44:15.790417",
     "status": "completed"
    },
    "tags": []
   },
   "outputs": [],
   "source": [
    "image = Image.open('/kaggle/input/mlware24/test_images_mlware/test_images/test-2144.png')\n",
    "\n",
    "# Display the image\n",
    "plt.imshow(image)\n",
    "plt.show()"
   ]
  },
  {
   "cell_type": "code",
   "execution_count": null,
   "id": "81c03468",
   "metadata": {
    "execution": {
     "iopub.execute_input": "2024-03-16T16:44:23.035017Z",
     "iopub.status.busy": "2024-03-16T16:44:23.034627Z",
     "iopub.status.idle": "2024-03-16T16:44:23.051445Z",
     "shell.execute_reply": "2024-03-16T16:44:23.050634Z"
    },
    "papermill": {
     "duration": 2.368402,
     "end_time": "2024-03-16T16:44:23.053502",
     "exception": false,
     "start_time": "2024-03-16T16:44:20.685100",
     "status": "completed"
    },
    "tags": []
   },
   "outputs": [],
   "source": [
    "df.to_csv('submission_file_mlware.csv', index=False)"
   ]
  },
  {
   "cell_type": "code",
   "execution_count": null,
   "id": "d6ec0010",
   "metadata": {
    "papermill": {
     "duration": 2.377405,
     "end_time": "2024-03-16T16:44:27.800056",
     "exception": false,
     "start_time": "2024-03-16T16:44:25.422651",
     "status": "completed"
    },
    "tags": []
   },
   "outputs": [],
   "source": []
  }
 ],
 "metadata": {
  "kaggle": {
   "accelerator": "nvidiaTeslaT4",
   "dataSources": [
    {
     "databundleVersionId": 7950640,
     "sourceId": 72550,
     "sourceType": "competition"
    }
   ],
   "dockerImageVersionId": 30665,
   "isGpuEnabled": true,
   "isInternetEnabled": true,
   "language": "python",
   "sourceType": "notebook"
  },
  "kernelspec": {
   "display_name": "Python 3",
   "language": "python",
   "name": "python3"
  },
  "language_info": {
   "codemirror_mode": {
    "name": "ipython",
    "version": 3
   },
   "file_extension": ".py",
   "mimetype": "text/x-python",
   "name": "python",
   "nbconvert_exporter": "python",
   "pygments_lexer": "ipython3",
   "version": "3.11.6"
  },
  "papermill": {
   "default_parameters": {},
   "duration": 1711.247905,
   "end_time": "2024-03-16T16:44:33.986008",
   "environment_variables": {},
   "exception": null,
   "input_path": "__notebook__.ipynb",
   "output_path": "__notebook__.ipynb",
   "parameters": {},
   "start_time": "2024-03-16T16:16:02.738103",
   "version": "2.5.0"
  }
 },
 "nbformat": 4,
 "nbformat_minor": 5
}
